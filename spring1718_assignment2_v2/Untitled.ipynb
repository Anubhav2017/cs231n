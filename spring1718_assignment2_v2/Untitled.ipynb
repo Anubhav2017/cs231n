{
 "cells": [
  {
   "cell_type": "code",
   "execution_count": 2,
   "metadata": {},
   "outputs": [],
   "source": [
    "import numpy as np\n",
    "from random import shuffle"
   ]
  },
  {
   "cell_type": "code",
   "execution_count": 23,
   "metadata": {},
   "outputs": [
    {
     "name": "stdout",
     "output_type": "stream",
     "text": [
      "8.61\n",
      "2.8700183249999998 [[-2.  5. -3.]\n",
      " [-4. 10. -6.]\n",
      " [-6. 15. -9.]]\n"
     ]
    }
   ],
   "source": [
    "X=np.array([[1,2,3],[4,8,12],[3,6,9]])\n",
    "y=np.array([0,2,1])\n",
    "W=np.array([[0.1,0.2,0.3],[0.4,0.2,0.1],[0.2,0.93,0.76]])\n",
    "reg=1e-5\n",
    "\n",
    "\n",
    "\n",
    "dW = np.zeros(W.shape) # initialize the gradient as zero\n",
    "\n",
    "  # compute the loss and the gradient\n",
    "num_classes = W.shape[1]\n",
    "num_train = X.shape[0]\n",
    "loss = 0.0\n",
    "gradient_mat=np.zeros((num_train,num_classes))\n",
    "for i in range(num_train):\n",
    "    scores = X[i].dot(W)\n",
    "    correct_class_score = scores[y[i]]\n",
    "    for j in range(num_classes):\n",
    "        if j == y[i]:\n",
    "            continue\n",
    "        margin = scores[j] - correct_class_score + 1 # note delta = 1\n",
    "        if margin > 0:\n",
    "            loss += margin\n",
    "            gradient_mat[i][j]+=1\n",
    "            gradient_mat[i][y[i]]-=1\n",
    "\n",
    "  # Right now the loss is a sum over all training examples, but we want it\n",
    "  # to be an average instead so we divide by num_train.\n",
    "print(loss)\n",
    "loss /= num_train\n",
    "\n",
    "\n",
    "  # Add regularization to the loss.\n",
    "loss += reg * np.sum(W * W)\n",
    "\n",
    "  #############################################################################\n",
    "  # TODO:                                                                     #\n",
    "  # Compute the gradient of the loss function and store it dW.                #\n",
    "  # Rather that first computing the loss and then computing the derivative,   #\n",
    "  # it may be simpler to compute the derivative at the same time that the     #\n",
    "  # loss is being computed. As a result you may need to modify some of the    #\n",
    "  # code above to compute the gradient.                                       #\n",
    "  #############################################################################\n",
    "dW=X.T.dot(gradient_mat)\n",
    "#dW/=num_train\n",
    "#dW+=2*reg*W\n",
    "print(loss,dW)\n"
   ]
  },
  {
   "cell_type": "code",
   "execution_count": null,
   "metadata": {},
   "outputs": [],
   "source": []
  }
 ],
 "metadata": {
  "kernelspec": {
   "display_name": "Python 3",
   "language": "python",
   "name": "python3"
  },
  "language_info": {
   "codemirror_mode": {
    "name": "ipython",
    "version": 3
   },
   "file_extension": ".py",
   "mimetype": "text/x-python",
   "name": "python",
   "nbconvert_exporter": "python",
   "pygments_lexer": "ipython3",
   "version": "3.5.2"
  }
 },
 "nbformat": 4,
 "nbformat_minor": 2
}
